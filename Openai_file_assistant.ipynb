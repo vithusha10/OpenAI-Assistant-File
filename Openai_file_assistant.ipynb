{
  "nbformat": 4,
  "nbformat_minor": 0,
  "metadata": {
    "colab": {
      "provenance": []
    },
    "kernelspec": {
      "name": "python3",
      "display_name": "Python 3"
    },
    "language_info": {
      "name": "python"
    }
  },
  "cells": [
    {
      "cell_type": "markdown",
      "source": [
        "#OpenAI-Assistant-file"
      ],
      "metadata": {
        "id": "h7x9TTEg5BQm"
      }
    },
    {
      "cell_type": "code",
      "execution_count": null,
      "metadata": {
        "id": "UXk8_DIQ8oPX"
      },
      "outputs": [],
      "source": [
        "!pip install openai"
      ]
    },
    {
      "cell_type": "code",
      "source": [
        "from openai import OpenAI\n",
        "client = OpenAI(api_key = \"your api key\")"
      ],
      "metadata": {
        "id": "6p07TcWu-Lta"
      },
      "execution_count": 2,
      "outputs": []
    },
    {
      "cell_type": "code",
      "source": [
        "#upload a file to Open AI\n",
        "\n",
        "file = client.files.create(\n",
        "    file=open(\"your pdf file path\", \"rb\"),\n",
        "    purpose=\"assistants\"\n",
        ")\n",
        "print(file)\n"
      ],
      "metadata": {
        "id": "fOD4_peRA8TP"
      },
      "execution_count": null,
      "outputs": []
    },
    {
      "cell_type": "code",
      "source": [
        "#create assistant\n",
        "\n",
        "assistant = client.beta.assistants.create(\n",
        "\n",
        "    name = \"Researcher\",\n",
        "    instructions = \"provide a instruction to your assistant\",\n",
        "    tools = [{\"type\" : \"retrieval\"}],\n",
        "    model = \"gpt-4-1106-preview\",\n",
        "    file_ids= [\"your file id\"]\n",
        "\n",
        ")"
      ],
      "metadata": {
        "id": "j4J0yAF3Aq8q"
      },
      "execution_count": null,
      "outputs": []
    },
    {
      "cell_type": "code",
      "source": [
        "#create thread\n",
        "\n",
        "thread = client.beta.threads.create()\n",
        "print (thread)"
      ],
      "metadata": {
        "id": "iccGuko3AvaY"
      },
      "execution_count": null,
      "outputs": []
    },
    {
      "cell_type": "code",
      "source": [
        "#Add message into thread\n",
        "\n",
        "message = client.beta.threads.messages.create(\n",
        "    thread_id = thread.id,\n",
        "    role= \"user\",\n",
        "    content= \"provide the content that you want to retrive from the relavent file\"\n",
        "\n",
        ")"
      ],
      "metadata": {
        "id": "atFY29kQHx5d"
      },
      "execution_count": null,
      "outputs": []
    },
    {
      "cell_type": "code",
      "source": [
        "#Run the Assistant\n",
        "run = client.beta.threads.runs.create(\n",
        "    thread_id = thread.id,\n",
        "    assistant_id = assistant.id\n",
        ")"
      ],
      "metadata": {
        "id": "Ly0sQESxJ3n0"
      },
      "execution_count": null,
      "outputs": []
    },
    {
      "cell_type": "code",
      "source": [
        "#Distplay assistant response\n",
        "run = client.beta.threads.runs.retrieve(\n",
        "    thread_id = thread.id,\n",
        "    run_id = run.id\n",
        ")"
      ],
      "metadata": {
        "id": "uFlR8RlKKKid"
      },
      "execution_count": null,
      "outputs": []
    },
    {
      "cell_type": "code",
      "source": [
        "#Retrive all message inside the run\n",
        "messages = client.beta.threads.messages.list(\n",
        "    thread_id= thread.id,\n",
        ")"
      ],
      "metadata": {
        "id": "aVF7HwMAKZfy"
      },
      "execution_count": null,
      "outputs": []
    },
    {
      "cell_type": "code",
      "source": [
        "#Print all msg from user and assistant\n",
        "\n",
        "for message in reversed (messages.data):\n",
        "  {\n",
        "      print(message.role + \":\" + message.content[0].text.value)\n",
        "  }"
      ],
      "metadata": {
        "id": "CWaHRJjTKhJl"
      },
      "execution_count": null,
      "outputs": []
    }
  ]
}